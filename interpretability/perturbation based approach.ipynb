{
 "cells": [
  {
   "cell_type": "markdown",
   "id": "43edfdfe",
   "metadata": {},
   "source": [
    "# Perturbation based approach using decoder to map ENDOs to different regions in brain. \n",
    "\n"
   ]
  },
  {
   "cell_type": "code",
   "execution_count": null,
   "id": "2309df32",
   "metadata": {},
   "outputs": [],
   "source": [
    "#imports \n",
    "#PyTorch\n",
    "import torch\n",
    "#mention the gpu number\n",
    "device = torch.device(\"cuda:0\")\n",
    "\n",
    "#custom modules\n",
    "from model128 import engine_AE\n",
    "\n",
    "#Python\n",
    "import pandas as pd\n",
    "from matplotlib import pyplot as plt\n",
    "from matplotlib.colors import colorConverter\n",
    "from matplotlib import cm\n",
    "import matplotlib\n",
    "import numpy as np\n",
    "from tqdm import tqdm\n",
    "import pickle\n",
    "from scipy.stats import ttest_ind\n",
    "from scipy.ndimage import gaussian_filter\n",
    "#imaging\n",
    "import nibabel as nb\n",
    "\n",
    "#Hyperparameters \n",
    "autumn = cm.get_cmap(\"autumn\", 16)\n",
    "color1 = colorConverter.to_rgba('yellow',alpha=0.0)\n",
    "color_len = 12\n",
    "colors = list(autumn(np.linspace(0, 1, color_len)))\n",
    "cmap = matplotlib.colors.ListedColormap([color1]*(16-color_len)+colors)\n",
    "\n",
    "import nibabel as nib\n",
    "from scipy.stats import ttest_rel"
   ]
  },
  {
   "cell_type": "code",
   "execution_count": null,
   "id": "79b77081",
   "metadata": {},
   "outputs": [],
   "source": [
    "# T1 ENDOs\n",
    "T1_ckpt = \"T1.ckpt\"\n",
    "device = torch.device(\"cuda:0\")\n",
    "model_T1 = engine_AE()\n",
    "model_T1 = model_T1.to(device)\n",
    "checkpoint = torch.load(T1_ckpt, map_location=device)\n",
    "model_T1.load_state_dict(checkpoint[\"state_dict\"])\n"
   ]
  },
  {
   "cell_type": "code",
   "execution_count": null,
   "id": "253aacff",
   "metadata": {},
   "outputs": [],
   "source": [
    "#T1_128_ENDOs.csv refers to ENDOs derived from T1. \n",
    "features_T1 = pd.read_csv(\"T1_128_ENDOs.csv\")\n",
    "features = features_T1.values[:500, 3:].astype('f')"
   ]
  },
  {
   "cell_type": "code",
   "execution_count": null,
   "id": "dc6e31da",
   "metadata": {},
   "outputs": [],
   "source": [
    "modality = \"T1\"\n",
    "dimensions_of_interest = [i for i in range(0,128,1)]"
   ]
  },
  {
   "cell_type": "code",
   "execution_count": null,
   "id": "be0c9acd",
   "metadata": {},
   "outputs": [],
   "source": [
    "#generating mask using MNI152 linearly registered T1 1mm brain  (masked MSE was used for training)\n",
    "b = nb.load('MNI152lin_T1_1mm_brain.nii.gz').get_fdata()  #linearly registered T1 MNI 152 \n",
    "mask = (b != 0).astype('f')\n",
    "aff = nb.load('MNI152lin_T1_1mm_brain.nii.gz').affine"
   ]
  },
  {
   "cell_type": "code",
   "execution_count": null,
   "id": "4ab0007a",
   "metadata": {},
   "outputs": [],
   "source": [
    "#just using the decoder aspect of the model.\n",
    "def decode(model, lin1):\n",
    "    model.eval()\n",
    "    with torch.no_grad():\n",
    "        model = model.to(device)\n",
    "        lin1 = lin1.to(device)\n",
    "        dec = model.decoding_mlp(lin1)\n",
    "        dec = dec.view([dec.shape[0], 256, 12, 14, 12])\n",
    "        dec = model.first_decoder(dec)\n",
    "        dec = model.first_transconv(dec)\n",
    "        dec = model.second_decoder(dec)\n",
    "        dec = model.second_transconv(dec)\n",
    "        dec = model.third_decoder(dec)\n",
    "        dec = model.third_transconv(dec)\n",
    "        dec = model.fourth_decoder(dec)\n",
    "        dec = model.fourth_transconv(dec)\n",
    "        recon = model.last_cnn(dec)\n",
    "    return recon\n",
    "  \n",
    "def crop(im, w, h):\n",
    "    wi, hi = im.shape\n",
    "    dw = wi - w\n",
    "    dh = hi - h\n",
    "    wend = -(dw - dw//2) if dw != 0 else wi\n",
    "    hend = -(dh - dh//2) if dh != 0 else hi\n",
    "    return im[dw//2: wend, dh//2:hend]"
   ]
  },
  {
   "cell_type": "code",
   "execution_count": null,
   "id": "c893c79c",
   "metadata": {},
   "outputs": [],
   "source": [
    "def save_for_viz(attribution, dimension,affine_matrix = aff):\n",
    "    nft_img = nb.Nifti1Image(attribution , affine_matrix)\n",
    "    nb.save(nft_img, f\"{dimension}.nii.gz\")"
   ]
  },
  {
   "cell_type": "code",
   "execution_count": null,
   "id": "832e0761",
   "metadata": {},
   "outputs": [],
   "source": [
    "def xai(dim):\n",
    "    original_sd = []\n",
    "    perturb_sd = []\n",
    "    #Adding 1 std noise to ENDOs of interest\n",
    "    for i in tqdm(range(0,500,10)):\n",
    "        lin1 = torch.from_numpy(features[i:i+10,:].astype('f'))\n",
    "        lin1 = lin1.to(device)\n",
    "        with torch.no_grad():\n",
    "            recon1 = decode(model_T1, lin1)\n",
    "            sd = np.std(pd.DataFrame(features[:500,:]).iloc[:,dim])\n",
    "            lin1[:, dim] += sd\n",
    "            recon2 = decode(model_T1, lin1)\n",
    "            original_sd.extend((recon1.detach().cpu().numpy()))\n",
    "            perturb_sd.extend((recon2.detach().cpu().numpy()))\n",
    "    original_sd = [np.squeeze(i) for i in original_sd]\n",
    "    perturb_sd = [np.squeeze(i) for i in perturb_sd]\n",
    "    #paired ttest\n",
    "    t_sd = ttest_rel(original_sd, perturb_sd, axis=0, nan_policy=\"omit\")\n",
    "    #absolute value of tmap\n",
    "    t_sd  = abs(t_sd[0])\n",
    "    #mask used during training (masked MSE)\n",
    "    t_masked_sd = mask * t_sd\n",
    "    #gaussian smoothing\n",
    "    t_masked_sd = gaussian_filter(t_masked_sd, sigma=3)\n",
    "    #saving tmap as nifti image\n",
    "    save_for_viz(t_masked_sd, f\"paired_ttest_T1_{dim}\")"
   ]
  },
  {
   "cell_type": "code",
   "execution_count": null,
   "id": "b679a8a4",
   "metadata": {},
   "outputs": [],
   "source": [
    "for i in tqdm(range(0,128,1)):\n",
    "    xai(i)"
   ]
  }
 ],
 "metadata": {
  "kernelspec": {
   "display_name": "Python 3 (ipykernel)",
   "language": "python",
   "name": "python3"
  },
  "language_info": {
   "codemirror_mode": {
    "name": "ipython",
    "version": 3
   },
   "file_extension": ".py",
   "mimetype": "text/x-python",
   "name": "python",
   "nbconvert_exporter": "python",
   "pygments_lexer": "ipython3",
   "version": "3.9.7"
  }
 },
 "nbformat": 4,
 "nbformat_minor": 5
}
