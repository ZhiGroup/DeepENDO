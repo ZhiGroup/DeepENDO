{
 "cells": [
  {
   "cell_type": "code",
   "execution_count": null,
   "id": "aa558adc",
   "metadata": {},
   "outputs": [],
   "source": [
    "#imports \n",
    "\n",
    "#PyTorch\n",
    "import torch\n",
    "from torch.nn import functional as F\n",
    "from torch import nn\n",
    "\n",
    "#general\n",
    "from glob import glob\n",
    "import pandas as pd\n",
    "import nibabel as nib\n",
    "import matplotlib.pyplot as plt\n",
    "from tqdm import tqdm\n",
    "import numpy as np\n",
    "\n",
    "#imaging\n",
    "from monai import transforms\n",
    "import nibabel\n",
    "\n",
    "#custom\n",
    "from model128 import *\n",
    "from dataset_visualize import *"
   ]
  },
  {
   "cell_type": "code",
   "execution_count": null,
   "id": "413d91ad",
   "metadata": {},
   "outputs": [],
   "source": [
    "transforms_monai = transforms.Compose(\n",
    "    [transforms.AddChannel(), transforms.ToTensor(),]\n",
    ")"
   ]
  },
  {
   "cell_type": "code",
   "execution_count": null,
   "id": "a8298dd4",
   "metadata": {},
   "outputs": [],
   "source": [
    "class aedataset_T1(torch.utils.data.Dataset):\n",
    "    def __init__(self, datafile, transforms):\n",
    "        \"\"\"\n",
    "        Provide list of files for unbiased brain\n",
    "        \"\"\"\n",
    "        self.unbiased_brain = datafile\n",
    "        self.transforms = transforms\n",
    "\n",
    "\n",
    "    def __len__(self):\n",
    "        return len(self.unbiased_brain)\n",
    "\n",
    "    def __getitem__(self, idxx=int):\n",
    "        img = nib.load(self.unbiased_brain[idxx])\n",
    "        img = img.get_fdata()\n",
    "        img = (img - img[img != 0].mean()) / img[img != 0].std()\n",
    "        img = self.transforms(img)\n",
    "\n",
    "        img = img.type(torch.float)\n",
    "        MRI_name = self.unbiased_brain[idxx]\n",
    "\n",
    "        return img, MRI_name\n"
   ]
  },
  {
   "cell_type": "code",
   "execution_count": null,
   "id": "20a34dd9",
   "metadata": {},
   "outputs": [],
   "source": [
    "T1 = glob(\"/T1/*\")"
   ]
  },
  {
   "cell_type": "code",
   "execution_count": null,
   "id": "2e8734fc",
   "metadata": {},
   "outputs": [],
   "source": [
    "#T1 ckpt\n",
    "\n",
    "T1_ckpt = \"T1.ckpt\""
   ]
  },
  {
   "cell_type": "code",
   "execution_count": null,
   "id": "5b074212",
   "metadata": {},
   "outputs": [],
   "source": [
    "device = torch.device(\"cuda:7\")"
   ]
  },
  {
   "cell_type": "code",
   "execution_count": null,
   "id": "432973be",
   "metadata": {},
   "outputs": [],
   "source": [
    "model_T1 = engine_AE(0.001)"
   ]
  },
  {
   "cell_type": "code",
   "execution_count": null,
   "id": "e0e9bc00",
   "metadata": {},
   "outputs": [],
   "source": [
    "model_T1 = model_T1.to(device)"
   ]
  },
  {
   "cell_type": "code",
   "execution_count": null,
   "id": "f173b5da",
   "metadata": {},
   "outputs": [],
   "source": [
    "checkpoint = torch.load(T1_ckpt, map_location=device)\n",
    "model_T1.load_state_dict(checkpoint[\"state_dict\"])"
   ]
  },
  {
   "cell_type": "code",
   "execution_count": null,
   "id": "5e83bff8",
   "metadata": {},
   "outputs": [],
   "source": [
    "T1_ds = aedataset_T1(\n",
    "    datafile=T1,\n",
    "    transforms=transforms_monai,\n",
    ")"
   ]
  },
  {
   "cell_type": "code",
   "execution_count": null,
   "id": "fee3b163",
   "metadata": {},
   "outputs": [],
   "source": [
    "T1_dataloader = torch.utils.data.DataLoader(\n",
    "    T1_ds, batch_size=16, pin_memory=True, num_workers=32, shuffle=False\n",
    ")"
   ]
  },
  {
   "cell_type": "code",
   "execution_count": null,
   "id": "ea9911fc",
   "metadata": {},
   "outputs": [],
   "source": [
    "bottle_neck = []\n",
    "img_names = []\n",
    "mode_T1 = model_T1.eval()\n",
    "with torch.no_grad():\n",
    "    for data in tqdm(T1_dataloader , total=len(T1_dataloader)):\n",
    "        img, name = data\n",
    "        img = img.to(device)\n",
    "        recon, lin1 = model_T1(img)\n",
    "        bottle_neck.extend(lin1)\n",
    "        img_names.extend(name)"
   ]
  },
  {
   "cell_type": "code",
   "execution_count": null,
   "id": "fe8577ca",
   "metadata": {},
   "outputs": [],
   "source": [
    "len(bottle_neck)"
   ]
  },
  {
   "cell_type": "code",
   "execution_count": null,
   "id": "3d5e84ca",
   "metadata": {},
   "outputs": [],
   "source": [
    "T1_128 = [x.cpu().numpy() for x in bottle_neck]"
   ]
  },
  {
   "cell_type": "code",
   "execution_count": null,
   "id": "2853e202",
   "metadata": {},
   "outputs": [],
   "source": [
    "import pickle"
   ]
  },
  {
   "cell_type": "code",
   "execution_count": null,
   "id": "78956f04",
   "metadata": {},
   "outputs": [],
   "source": [
    "with open('T1_128.pkl', 'wb') as f:\n",
    "    pickle.dump(T1_128 , f)"
   ]
  },
  {
   "cell_type": "code",
   "execution_count": null,
   "id": "64ee5d84",
   "metadata": {},
   "outputs": [],
   "source": [
    "with open(\"T1_img_names\", \"wb\") as f:\n",
    "    pickle.dump(img_names, f)"
   ]
  }
 ],
 "metadata": {
  "kernelspec": {
   "display_name": "Python 3 (ipykernel)",
   "language": "python",
   "name": "python3"
  },
  "language_info": {
   "codemirror_mode": {
    "name": "ipython",
    "version": 3
   },
   "file_extension": ".py",
   "mimetype": "text/x-python",
   "name": "python",
   "nbconvert_exporter": "python",
   "pygments_lexer": "ipython3",
   "version": "3.8.8"
  }
 },
 "nbformat": 4,
 "nbformat_minor": 5
}
